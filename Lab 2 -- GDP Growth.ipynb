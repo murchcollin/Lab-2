{
 "cells": [
  {
   "cell_type": "markdown",
   "metadata": {},
   "source": [
    "## Analysis of the GDP of Various Countries ##"
   ]
  },
  {
   "cell_type": "markdown",
   "metadata": {},
   "source": [
    "## Abstract ##"
   ]
  },
  {
   "cell_type": "markdown",
   "metadata": {},
   "source": [
    "*** Introduction ***\n",
    "> In this lab, I will be using WorldBank's 2017 GDP data to determine a few things. I want to find the average GDP of every country, as well as the minimum and maximum GDP's. I'm specifically curious to see whether the U.S. has the highest GDP of any country. I also want to see whether or not the lowest GDP is shockingly low or not. Finally, I'm curious whether or not the average GDP is comparable to other country's GDP's (such as the mininum and maximum GDP)."
   ]
  },
  {
   "cell_type": "markdown",
   "metadata": {},
   "source": [
    "## Dataset Preparation ##"
   ]
  },
  {
   "cell_type": "markdown",
   "metadata": {},
   "source": [
    "***Data Location***\n",
    "\n",
    "> This data was retrieved from Worldbank's public database: [Data Link](https://data.worldbank.org/indicator/NY.GDP.MKTP.CD)\n",
    "\n",
    "> The data was not modified from the form stored on the server before importing to Jupyter Notebook\n",
    "\n",
    "\n",
    "***Accessing the Data in Python***\n",
    "\n",
    "> To access the data, I had to first to open the file in python. To do that, I opened the file with read permissions, and stored the data in a buffer variable called 'content.' I used the keyword \"with\" to specify to Python that I wanted the file closed after the code block had been executed.\n",
    "\n",
    "***Storing the Data for Analysis***\n",
    "> Since the data has over 200 rows and over 30 columns, it did not make sense to store the rows or colums as hand-crafted lists. Instead, I created a matrix of lists (essentially a 2D array), by iterating through each row, then splitting the row by colums and storing the individual elements. I neglected the final element in each row (as indicated by the \"[:-1]\"), because it was an empty string."
   ]
  },
  {
   "cell_type": "code",
   "execution_count": 89,
   "metadata": {},
   "outputs": [],
   "source": [
    "with open('./API_NY.GDP.MKTP.CD_DS2_en_csv_v2_10080925.csv', 'r') as data:\n",
    "    content = data.read().splitlines()[4:]\n",
    "    # Remove title rows\n",
    "    \n",
    "matrix = [[x.split(',')[i] for i in range(len(x.split(',')))][:-1] for x in content]"
   ]
  },
  {
   "cell_type": "markdown",
   "metadata": {},
   "source": [
    "***Cleaning the Data***\n",
    "\n",
    "> Cleaning the data was fairly straightforward. The only aspect that would cause problems during analyses was the fact that some of the countries were not actually that; they were groups of countries. To deal with that, I simply deleted their row from the matrix, so that it was exclusively countries. Otherwise, the maximum GDP would have been astronomically high. The individual groups of countries are commented in the code.\n",
    "\n",
    "> Afterwards, I wrote a method called \"comma,\" which simply would change a number like \"123456789\" to \"123,456,789\", so that the large GDP numbers are easier to read later on."
   ]
  },
  {
   "cell_type": "code",
   "execution_count": 90,
   "metadata": {},
   "outputs": [],
   "source": [
    "# Excluding groups of countries\n",
    "del matrix[258] # World\n",
    "del matrix[94]  # High income\n",
    "del matrix[179] # OECD members\n",
    "del matrix[195] # Post-demographic dividend\n",
    "del matrix[101] # IDA & IBRD total\n",
    "del matrix[137] # Low & middle income\n",
    "del matrix[152] # Middle income\n",
    "del matrix[100]  # IBRD only\n",
    "del matrix[62]  # East Asia & Pacific\n",
    "del matrix[63]  # Europe & Central Asia\n",
    "del matrix[239] # Upper middle income\n",
    "del matrix[162] # North America\n",
    "del matrix[135] # Late-demographic dividend\n",
    "del matrix[60]  # East Asia & Pacific (excluding high income)\n",
    "del matrix[64]  # Euro area\n",
    "del matrix[68]  # European Union\n",
    "del matrix[215] # East Asia & Pacific (IDA & IBRD countries)\n",
    "\n",
    "def comma(x):\n",
    "    ret=[]\n",
    "    for i, n in enumerate(list(str(int(x)))[::-1]): # Go through each element, and store index and item in i, n\n",
    "        if i and not (i % 3):                       # After every third element going through backwards, add comma\n",
    "            ret.insert(0, ',')\n",
    "        ret.insert(0, n)\n",
    "    return ''.join(ret)"
   ]
  },
  {
   "cell_type": "markdown",
   "metadata": {},
   "source": [
    "## Data Modelling ##"
   ]
  },
  {
   "cell_type": "markdown",
   "metadata": {},
   "source": [
    "***Finding the Highest GDP***\n",
    "> To find the maximum GDP, I used two nested for loops to iterate through each column (skipping the first column and the first 5 rows as they were just titles or names of countries), and found the maximum GDP. This was done by storing the value in a \"max\" variable, and storing its x and y index in \"tIndex\". At the end, I printed out the maximum number, along with the row header (country name), and the column header (year). I also stripped all \"\\\"'s from the string, because this dataset uses them to denote spaces."
   ]
  },
  {
   "cell_type": "code",
   "execution_count": 91,
   "metadata": {},
   "outputs": [
    {
     "name": "stdout",
     "output_type": "stream",
     "text": [
      "Highest GDP: $19,390,604,000,000 -- United States 2017\n"
     ]
    }
   ],
   "source": [
    "top, tIndex = 0.0, [0, 0]\n",
    "for i in range(1, len(matrix)):\n",
    "    for j in range(5, len(matrix[0])):\n",
    "        try:\n",
    "            value = float(matrix[i][j].strip(\"\\\"\")) # Try doing, and if it fails it is because it's an empty string\n",
    "            if value > top:\n",
    "                top = value\n",
    "                tIndex = (i, j)\n",
    "        except:                                     # If it is an empty string, break\n",
    "            break\n",
    "\n",
    "print(\"Highest GDP: $%s -- %s %s\" %(comma(top), matrix[tIndex[0]][0].strip(\"\\\"\"), matrix[0][tIndex[1]].strip(\"\\\"\")))"
   ]
  },
  {
   "cell_type": "markdown",
   "metadata": {},
   "source": [
    "***Finding the Lowest GDP***\n",
    "> To find the minimum GDP, I used two nested for loops to iterate through each column (skipping the first column and the first 5 rows as they were just titles or names of countries), and found the minimum GDP. This was done by storing the value in a \"min\" variable, and storing its x and y index in \"bIndex\". At the end, I printed out the minimum number, along with the row header (country name), and the column header (year). I also stripped all \"\\\"'s from the string, because this dataset uses them to denote spaces."
   ]
  },
  {
   "cell_type": "code",
   "execution_count": 92,
   "metadata": {},
   "outputs": [
    {
     "name": "stdout",
     "output_type": "stream",
     "text": [
      "Lowest GDP: $11,592,024 -- Seychelles 1961\n"
     ]
    }
   ],
   "source": [
    "bottom, bIndex = 1000000000000.0, [0, 0]\n",
    "for i in range(1, len(matrix)):\n",
    "    for j in range(5, len(matrix[0])):\n",
    "        try:\n",
    "            value = float(matrix[i][j].strip(\"\\\"\")) # Try doing, and if it fails it is because it's an empty string\n",
    "            if value < bottom:\n",
    "                bottom = value\n",
    "                bIndex = (i, j)\n",
    "        except:                                     # If it is an empty string, break\n",
    "            break\n",
    "            \n",
    "print(\"Lowest GDP: $%s -- %s %s\" %(comma(bottom), matrix[bIndex[0]][0].strip(\"\\\"\"), matrix[0][bIndex[1]].strip(\"\\\"\")))"
   ]
  },
  {
   "cell_type": "markdown",
   "metadata": {},
   "source": [
    "***Finding the Average GDP***\n",
    "> To find the average GDP, I used two nested for loops to iterate through each column (skipping the first column and the first 5 rows as they were just titles or names of countries), and added each GDP to the \"total\" variable. At the end, I divided the total variable by the \"length\" variable, which stores each recorded GDP. This yields the average GDP of all recorded countries. I also stripped all \"\\\"'s from the string, because this dataset uses them to denote spaces."
   ]
  },
  {
   "cell_type": "code",
   "execution_count": 93,
   "metadata": {},
   "outputs": [
    {
     "name": "stdout",
     "output_type": "stream",
     "text": [
      "Average GDP: $317,176,540,628\n"
     ]
    }
   ],
   "source": [
    "total, length = 0.0, 0\n",
    "for i in range(1, len(matrix)):\n",
    "    for j in range(5, len(matrix[0])):\n",
    "        try:\n",
    "            total += float(matrix[i][j].strip(\"\\\"\")) # Try doing, and if it fails it is because it's an empty string\n",
    "            length += 1                              # Doesn't record if it doesn't exist -- fails before adding\n",
    "        except:                                      # If it is an empty string, break\n",
    "            break\n",
    "\n",
    "print(\"Average GDP: $%s\" %comma(str(int(total/length))))"
   ]
  },
  {
   "cell_type": "markdown",
   "metadata": {},
   "source": [
    "## Data Analysis & Conclusion ##"
   ]
  },
  {
   "cell_type": "markdown",
   "metadata": {},
   "source": [
    "*** Conclusion ***\n",
    "> After analyzing the data, I found that the lowest GDP was of Seychelles, which I was certainly surprised by. I would have thought that it would be a country thought of as more \"third-world,\" but Seychelles makes sense due solely to its size.\n",
    "\n",
    "> I was unsurprised to find that the U.S. has the highest GDP. Frankly I didn't know what to make of the average GDP, as I have no way of judging it. It is significantly higher than Seychelles GDP, while under one-thousandth of the U.S.'s. It just gives me a sense for the shocking amount of money the U.S. generates."
   ]
  },
  {
   "cell_type": "markdown",
   "metadata": {},
   "source": [
    "## Acknowledgements ##"
   ]
  },
  {
   "cell_type": "markdown",
   "metadata": {},
   "source": [
    "***No acknowledgements applicable for this lab.***"
   ]
  }
 ],
 "metadata": {
  "kernelspec": {
   "display_name": "Python 3",
   "language": "python",
   "name": "python3"
  },
  "language_info": {
   "codemirror_mode": {
    "name": "ipython",
    "version": 3
   },
   "file_extension": ".py",
   "mimetype": "text/x-python",
   "name": "python",
   "nbconvert_exporter": "python",
   "pygments_lexer": "ipython3",
   "version": "3.6.5"
  }
 },
 "nbformat": 4,
 "nbformat_minor": 2
}
